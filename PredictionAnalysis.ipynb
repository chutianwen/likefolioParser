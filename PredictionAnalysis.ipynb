{
 "cells": [
  {
   "cell_type": "code",
   "execution_count": 119,
   "metadata": {},
   "outputs": [
    {
     "data": {
      "text/html": [
       "<div>\n",
       "<style scoped>\n",
       "    .dataframe tbody tr th:only-of-type {\n",
       "        vertical-align: middle;\n",
       "    }\n",
       "\n",
       "    .dataframe tbody tr th {\n",
       "        vertical-align: top;\n",
       "    }\n",
       "\n",
       "    .dataframe thead th {\n",
       "        text-align: right;\n",
       "    }\n",
       "</style>\n",
       "<table border=\"1\" class=\"dataframe\">\n",
       "  <thead>\n",
       "    <tr style=\"text-align: right;\">\n",
       "      <th></th>\n",
       "      <th>Company</th>\n",
       "      <th>Ticker</th>\n",
       "      <th>Earning Time</th>\n",
       "      <th>Earning Score</th>\n",
       "      <th>Starting Week</th>\n",
       "      <th>Earning Date</th>\n",
       "      <th>Market Time</th>\n",
       "      <th>Left-day Open</th>\n",
       "      <th>Right-day Open</th>\n",
       "      <th>Left-day Close</th>\n",
       "      <th>Right-day Close</th>\n",
       "      <th>Left-day High</th>\n",
       "      <th>Right-day High</th>\n",
       "      <th>Left-day Low</th>\n",
       "      <th>Right-day Low</th>\n",
       "    </tr>\n",
       "  </thead>\n",
       "  <tbody>\n",
       "    <tr>\n",
       "      <th>0</th>\n",
       "      <td>Citigroup</td>\n",
       "      <td>C</td>\n",
       "      <td>Tue before\\rmarket</td>\n",
       "      <td>33</td>\n",
       "      <td>2020-01-13</td>\n",
       "      <td>2020-01-14</td>\n",
       "      <td>PREMARKET</td>\n",
       "      <td>74.69</td>\n",
       "      <td>76.29</td>\n",
       "      <td>75.77</td>\n",
       "      <td>76.95</td>\n",
       "      <td>75.84</td>\n",
       "      <td>78.08</td>\n",
       "      <td>74.22</td>\n",
       "      <td>76.07</td>\n",
       "    </tr>\n",
       "    <tr>\n",
       "      <th>1</th>\n",
       "      <td>Delta</td>\n",
       "      <td>DAL</td>\n",
       "      <td>Tue before\\rmarket</td>\n",
       "      <td>-12</td>\n",
       "      <td>2020-01-13</td>\n",
       "      <td>2020-01-14</td>\n",
       "      <td>PREMARKET</td>\n",
       "      <td>58.62</td>\n",
       "      <td>61.61</td>\n",
       "      <td>59.08</td>\n",
       "      <td>61.03</td>\n",
       "      <td>59.29</td>\n",
       "      <td>61.82</td>\n",
       "      <td>58.62</td>\n",
       "      <td>60.44</td>\n",
       "    </tr>\n",
       "    <tr>\n",
       "      <th>2</th>\n",
       "      <td>U.S. Bank</td>\n",
       "      <td>USB</td>\n",
       "      <td>Wed before\\rmarket</td>\n",
       "      <td>44</td>\n",
       "      <td>2020-01-13</td>\n",
       "      <td>2020-01-15</td>\n",
       "      <td>PREMARKET</td>\n",
       "      <td>53.43</td>\n",
       "      <td>52.28</td>\n",
       "      <td>53.33</td>\n",
       "      <td>51.81</td>\n",
       "      <td>53.91</td>\n",
       "      <td>52.61</td>\n",
       "      <td>53.22</td>\n",
       "      <td>51.35</td>\n",
       "    </tr>\n",
       "    <tr>\n",
       "      <th>3</th>\n",
       "      <td>IBM</td>\n",
       "      <td>IBM</td>\n",
       "      <td>Tue after\\rmarket</td>\n",
       "      <td>-39</td>\n",
       "      <td>2020-01-20</td>\n",
       "      <td>2020-01-21</td>\n",
       "      <td>AFH</td>\n",
       "      <td>126.33</td>\n",
       "      <td>131.39</td>\n",
       "      <td>127.58</td>\n",
       "      <td>131.91</td>\n",
       "      <td>127.75</td>\n",
       "      <td>133.65</td>\n",
       "      <td>126.14</td>\n",
       "      <td>130.68</td>\n",
       "    </tr>\n",
       "    <tr>\n",
       "      <th>4</th>\n",
       "      <td>Netflix</td>\n",
       "      <td>NFLX</td>\n",
       "      <td>Tue after\\rmarket</td>\n",
       "      <td>-21</td>\n",
       "      <td>2020-01-20</td>\n",
       "      <td>2020-01-21</td>\n",
       "      <td>AFH</td>\n",
       "      <td>340.00</td>\n",
       "      <td>332.55</td>\n",
       "      <td>338.11</td>\n",
       "      <td>326.00</td>\n",
       "      <td>341.00</td>\n",
       "      <td>336.30</td>\n",
       "      <td>332.59</td>\n",
       "      <td>323.60</td>\n",
       "    </tr>\n",
       "  </tbody>\n",
       "</table>\n",
       "</div>"
      ],
      "text/plain": [
       "     Company Ticker        Earning Time  Earning Score Starting Week  \\\n",
       "0  Citigroup      C  Tue before\\rmarket             33    2020-01-13   \n",
       "1      Delta    DAL  Tue before\\rmarket            -12    2020-01-13   \n",
       "2  U.S. Bank    USB  Wed before\\rmarket             44    2020-01-13   \n",
       "3        IBM    IBM   Tue after\\rmarket            -39    2020-01-20   \n",
       "4    Netflix   NFLX   Tue after\\rmarket            -21    2020-01-20   \n",
       "\n",
       "  Earning Date Market Time  Left-day Open  Right-day Open  Left-day Close  \\\n",
       "0   2020-01-14   PREMARKET          74.69           76.29           75.77   \n",
       "1   2020-01-14   PREMARKET          58.62           61.61           59.08   \n",
       "2   2020-01-15   PREMARKET          53.43           52.28           53.33   \n",
       "3   2020-01-21         AFH         126.33          131.39          127.58   \n",
       "4   2020-01-21         AFH         340.00          332.55          338.11   \n",
       "\n",
       "   Right-day Close  Left-day High  Right-day High  Left-day Low  Right-day Low  \n",
       "0            76.95          75.84           78.08         74.22          76.07  \n",
       "1            61.03          59.29           61.82         58.62          60.44  \n",
       "2            51.81          53.91           52.61         53.22          51.35  \n",
       "3           131.91         127.75          133.65        126.14         130.68  \n",
       "4           326.00         341.00          336.30        332.59         323.60  "
      ]
     },
     "execution_count": 119,
     "metadata": {},
     "output_type": "execute_result"
    }
   ],
   "source": [
    "import pandas as pd\n",
    "data = pd.read_csv('earning_prediction_quotes_parallel.csv')\n",
    "data.head()"
   ]
  },
  {
   "cell_type": "code",
   "execution_count": 122,
   "metadata": {},
   "outputs": [
    {
     "name": "stdout",
     "output_type": "stream",
     "text": [
      "Original has 1299 rows\n",
      "Pruned has 1209 rows\n"
     ]
    }
   ],
   "source": [
    "print(f'Original has {data.shape[0]} rows')\n",
    "df_pruned = data.dropna()\n",
    "print(f'Pruned has {df_pruned.shape[0]} rows')"
   ]
  },
  {
   "cell_type": "code",
   "execution_count": 194,
   "metadata": {},
   "outputs": [],
   "source": [
    "SCORE_COL = 'Earning Score'\n",
    "LABEL_BULL = 'BULL'\n",
    "LABEL_BEAR = 'BEAR'\n",
    "LABEL_NEUTRAL = 'NEUTRAL'\n",
    "\n",
    "# percentage wise\n",
    "BEAR_CHANGE = -7.5\n",
    "BULL_CHANGE = 7.5"
   ]
  },
  {
   "cell_type": "code",
   "execution_count": 195,
   "metadata": {},
   "outputs": [],
   "source": [
    "def label_diff(value, threshold):\n",
    "    if value > threshold:\n",
    "        return LABEL_BULL\n",
    "    elif value > -threshold:\n",
    "        return LABEL_NEUTRAL\n",
    "    else:\n",
    "        return LABEL_BEAR"
   ]
  },
  {
   "cell_type": "code",
   "execution_count": 196,
   "metadata": {},
   "outputs": [],
   "source": [
    "def predict(score, threshold_bull, threshold_bear):    \n",
    "    if score > threshold_bull:\n",
    "        return LABEL_BULL\n",
    "    elif score > threshold_bear:\n",
    "        return LABEL_NEUTRAL\n",
    "    else:\n",
    "        return LABEL_BEAR"
   ]
  },
  {
   "cell_type": "code",
   "execution_count": 197,
   "metadata": {},
   "outputs": [],
   "source": [
    "from enum import Enum\n",
    "\n",
    "class DiffMethod(Enum):\n",
    "    CLOSE = 1\n",
    "    HI_LOW = 2"
   ]
  },
  {
   "cell_type": "code",
   "execution_count": 206,
   "metadata": {},
   "outputs": [],
   "source": [
    "def prediction_analysis(df, diff_method, threshold_bull, threshold_bear):    \n",
    "    diff_col = 'DIFF'\n",
    "    if diff_method == DiffMethod.CLOSE:\n",
    "        data_pruned[diff_col] = 100 * ((data_pruned['Right-day Close'] / data_pruned['Left-day Close']) - 1)\n",
    "    elif diff_method == DiffMethod.HI_LOW:\n",
    "        data_pruned[diff_col] = 100 * ((data_pruned['Right-day High'] / data_pruned['Left-day Low']) - 1)\n",
    "    else:\n",
    "        return\n",
    "    true_label_col = 'True Label'\n",
    "    predict_label_col = 'Predict'\n",
    "    data_pruned[true_label_col] = data_pruned.apply(lambda row: label_diff(row[diff_col]), axis=1)\n",
    "    data_pruned[predict_label_col] = data_pruned.apply(lambda row: predict(row[SCORE_COL], threshold_bull, threshold_bear), axis=1)\n",
    "    \n",
    "    is_equal = data_pruned[true_label_col] == data_pruned[predict_label_col]\n",
    "    right = is_equal.sum()\n",
    "    accuracy = (right / is_equal.size * 100).round(2)\n",
    "    print(f'Threshold_bull: {threshold_bull}, threshold_bear: {threshold_bear},\\\n",
    "          accuracy: {accuracy} [{right}/{is_equal.size}]')\n",
    "    \n",
    "    # for true bull cases, accuracy\n",
    "    \n",
    "    return data_pruned"
   ]
  },
  {
   "cell_type": "code",
   "execution_count": 208,
   "metadata": {},
   "outputs": [
    {
     "name": "stdout",
     "output_type": "stream",
     "text": [
      "Diff_method:DiffMethod.CLOSE\n",
      "Stock change > 14%: Bull, < -14%:BEAR, between: NEUTRAL\n",
      "Stock change > 14%: Bull, < -14%:BEAR, between: NEUTRAL\n",
      "Stock change > 14%: Bull, < -14%:BEAR, between: NEUTRAL\n",
      "Stock change > 14%: Bull, < -14%:BEAR, between: NEUTRAL\n",
      "Stock change > 14%: Bull, < -14%:BEAR, between: NEUTRAL\n",
      "Stock change > 14%: Bull, < -14%:BEAR, between: NEUTRAL\n",
      "Stock change > 14%: Bull, < -14%:BEAR, between: NEUTRAL\n",
      "Stock change > 14%: Bull, < -14%:BEAR, between: NEUTRAL\n",
      "Diff_method:DiffMethod.HI_LOW\n",
      "Stock change > 14%: Bull, < -14%:BEAR, between: NEUTRAL\n",
      "Stock change > 14%: Bull, < -14%:BEAR, between: NEUTRAL\n",
      "Stock change > 14%: Bull, < -14%:BEAR, between: NEUTRAL\n",
      "Stock change > 14%: Bull, < -14%:BEAR, between: NEUTRAL\n",
      "Stock change > 14%: Bull, < -14%:BEAR, between: NEUTRAL\n",
      "Stock change > 14%: Bull, < -14%:BEAR, between: NEUTRAL\n",
      "Stock change > 14%: Bull, < -14%:BEAR, between: NEUTRAL\n",
      "Stock change > 14%: Bull, < -14%:BEAR, between: NEUTRAL\n"
     ]
    }
   ],
   "source": [
    "for diff_method in [DiffMethod.CLOSE, DiffMethod.HI_LOW]:  \n",
    "    print(f'Diff_method:{diff_method}')\n",
    "    for gap in range(0, 15, 2):\n",
    "        \n",
    "        print(f'Stock change > {BULL_CHANGE}%: Bull, < {BEAR_CHANGE}%:BEAR, between: NEUTRAL')\n",
    "        for threshold in range(20, 100, 20):\n",
    "            threshold_bull = threshold\n",
    "            threshold_bear = -threshold\n",
    "        \n",
    "            res = prediction_analysis(df_pruned, diff_method, threshold_bull, threshold_bear)"
   ]
  },
  {
   "cell_type": "code",
   "execution_count": 147,
   "metadata": {},
   "outputs": [],
   "source": [
    "res.to_csv('analysis.csv', index=False)"
   ]
  },
  {
   "cell_type": "code",
   "execution_count": null,
   "metadata": {},
   "outputs": [],
   "source": []
  }
 ],
 "metadata": {
  "kernelspec": {
   "display_name": "Python 3",
   "language": "python",
   "name": "python3"
  },
  "language_info": {
   "codemirror_mode": {
    "name": "ipython",
    "version": 3
   },
   "file_extension": ".py",
   "mimetype": "text/x-python",
   "name": "python",
   "nbconvert_exporter": "python",
   "pygments_lexer": "ipython3",
   "version": "3.7.4"
  }
 },
 "nbformat": 4,
 "nbformat_minor": 2
}
